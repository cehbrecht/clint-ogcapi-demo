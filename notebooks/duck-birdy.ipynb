{
 "cells": [
  {
   "cell_type": "markdown",
   "id": "1f536c73-5342-47f3-8108-57a69b51daac",
   "metadata": {},
   "source": [
    "# Duck WPS with birdy"
   ]
  },
  {
   "cell_type": "code",
   "execution_count": null,
   "id": "14cbf5a4-276e-49f5-953d-2186ab8ff89b",
   "metadata": {},
   "outputs": [],
   "source": [
    "from birdy import WPSClient\n",
    "\n",
    "url = \"https://smartduck.dkrz.de/wps\"\n",
    "duck = WPSClient(url, progress=True)"
   ]
  },
  {
   "cell_type": "code",
   "execution_count": null,
   "id": "78aa3fbf-f793-46d6-a167-9f894f944486",
   "metadata": {},
   "outputs": [],
   "source": [
    "duck?"
   ]
  },
  {
   "cell_type": "code",
   "execution_count": null,
   "id": "82c00411-11ff-4f35-b708-e286791aa14f",
   "metadata": {},
   "outputs": [],
   "source": [
    "duck.dashboard?"
   ]
  },
  {
   "cell_type": "code",
   "execution_count": null,
   "id": "c9431732-075c-4307-a887-952abccb616d",
   "metadata": {},
   "outputs": [],
   "source": [
    "response = duck.dashboard(time=\"2023-10-01/2023-10-31\")"
   ]
  },
  {
   "cell_type": "code",
   "execution_count": null,
   "id": "9dd09180-3149-4ed0-99af-93442bca3612",
   "metadata": {},
   "outputs": [],
   "source": [
    "response.get()[0]"
   ]
  }
 ],
 "metadata": {
  "kernelspec": {
   "display_name": "Python 3 (ipykernel)",
   "language": "python",
   "name": "python3"
  },
  "language_info": {
   "codemirror_mode": {
    "name": "ipython",
    "version": 3
   },
   "file_extension": ".py",
   "mimetype": "text/x-python",
   "name": "python",
   "nbconvert_exporter": "python",
   "pygments_lexer": "ipython3",
   "version": "3.12.0"
  }
 },
 "nbformat": 4,
 "nbformat_minor": 5
}
