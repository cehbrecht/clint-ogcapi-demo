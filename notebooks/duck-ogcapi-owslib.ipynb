{
 "cells": [
  {
   "cell_type": "markdown",
   "id": "1620b1f6-d800-4c0c-a42e-f6353b6125b1",
   "metadata": {},
   "source": [
    "# Duck ogcapi processes with owslib\n",
    "\n",
    "* https://github.com/geopython/OWSLib/blob/master/owslib/ogcapi/processes.py"
   ]
  },
  {
   "cell_type": "code",
   "execution_count": null,
   "id": "50a1cd66-f83a-48b5-a412-738281d2c646",
   "metadata": {},
   "outputs": [],
   "source": [
    "from owslib.ogcapi.processes import Processes"
   ]
  },
  {
   "cell_type": "code",
   "execution_count": null,
   "id": "c2c74487-2deb-488b-9091-d7ea9ae9ff42",
   "metadata": {},
   "outputs": [],
   "source": [
    "duck_url = \"https://smartduck.dkrz.de/processes?service=WPS\""
   ]
  },
  {
   "cell_type": "code",
   "execution_count": null,
   "id": "1077baab-9c5b-477d-879a-c7835d1ee362",
   "metadata": {},
   "outputs": [],
   "source": [
    "p = Processes(duck_url)"
   ]
  },
  {
   "cell_type": "code",
   "execution_count": null,
   "id": "42ee3efd-bfb7-4ded-9f2b-2a894500179a",
   "metadata": {},
   "outputs": [],
   "source": [
    "processes = p.processes()\n",
    "len(processes) "
   ]
  }
 ],
 "metadata": {
  "kernelspec": {
   "display_name": "Python 3 (ipykernel)",
   "language": "python",
   "name": "python3"
  },
  "language_info": {
   "codemirror_mode": {
    "name": "ipython",
    "version": 3
   },
   "file_extension": ".py",
   "mimetype": "text/x-python",
   "name": "python",
   "nbconvert_exporter": "python",
   "pygments_lexer": "ipython3",
   "version": "3.12.0"
  }
 },
 "nbformat": 4,
 "nbformat_minor": 5
}
