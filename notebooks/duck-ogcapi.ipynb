{
 "cells": [
  {
   "cell_type": "markdown",
   "id": "556c809f-40a8-4f3b-a33c-c65a8e0bd6ab",
   "metadata": {},
   "source": [
    "# Duck OGCAPI Processes\n",
    "\n",
    "* https://github.com/opengeospatial/ogcapi-processes\n",
    "* https://github.com/geopython/pywps/blob/main/docs/api_rest.rst"
   ]
  },
  {
   "cell_type": "code",
   "execution_count": null,
   "id": "10a6e417-e5f9-41f6-936d-6581ae9a6ada",
   "metadata": {},
   "outputs": [],
   "source": [
    "import requests\n",
    "import json"
   ]
  },
  {
   "cell_type": "code",
   "execution_count": null,
   "id": "76b973d3-17a1-45f2-b53a-5d5906a59a77",
   "metadata": {},
   "outputs": [],
   "source": [
    "duck_url = \"https://smartduck.dkrz.de\""
   ]
  },
  {
   "cell_type": "markdown",
   "id": "efa76f35-e917-43d1-8e80-0c4e39475682",
   "metadata": {},
   "source": [
    "## GetCapabilities"
   ]
  },
  {
   "cell_type": "code",
   "execution_count": null,
   "id": "424d1ff1-95e6-422e-8ba4-660622d385fb",
   "metadata": {},
   "outputs": [],
   "source": [
    "url = f\"{duck_url}/processes?service=WPS\"\n",
    "url"
   ]
  },
  {
   "cell_type": "code",
   "execution_count": null,
   "id": "91a2b457-40a4-42ed-94a6-5635327c470a",
   "metadata": {},
   "outputs": [],
   "source": [
    "response = requests.get(url)\n",
    "response.ok"
   ]
  },
  {
   "cell_type": "code",
   "execution_count": null,
   "id": "3815c854-6cf8-466b-89e0-7da604954022",
   "metadata": {},
   "outputs": [],
   "source": [
    "print(response.text)"
   ]
  },
  {
   "cell_type": "markdown",
   "id": "3309029c-2582-4b06-8cdb-7f0ba6ff1cea",
   "metadata": {},
   "source": [
    "## DescribeProcess"
   ]
  },
  {
   "cell_type": "code",
   "execution_count": null,
   "id": "a074b997-5b12-42f3-b2e1-8cdbd635910b",
   "metadata": {},
   "outputs": [],
   "source": [
    "url = f\"{duck_url}/processes/dashboard?service=WPS\"\n",
    "url"
   ]
  },
  {
   "cell_type": "code",
   "execution_count": null,
   "id": "1b54fa1a-e1f3-4d39-b04b-52f7b1c5ac98",
   "metadata": {},
   "outputs": [],
   "source": [
    "response = requests.get(url)\n",
    "response.ok"
   ]
  },
  {
   "cell_type": "code",
   "execution_count": null,
   "id": "7c0c5d81-5e17-4fa8-81ef-c771494401d4",
   "metadata": {},
   "outputs": [],
   "source": [
    "print(response.text)"
   ]
  },
  {
   "cell_type": "markdown",
   "id": "6f28a61a-2b88-4552-b9f6-0ab6d105fa9c",
   "metadata": {},
   "source": [
    "## Execute"
   ]
  },
  {
   "cell_type": "code",
   "execution_count": null,
   "id": "c28810d8-f52d-4672-bb74-d34b36cd44ca",
   "metadata": {},
   "outputs": [],
   "source": [
    "url = f\"{duck_url}/jobs/dashboard/report\"\n",
    "url"
   ]
  },
  {
   "cell_type": "code",
   "execution_count": null,
   "id": "75a923d9-a009-4d53-a27f-4c6fcefdf582",
   "metadata": {},
   "outputs": [],
   "source": [
    "data = {\n",
    "    \"time\": \"2023-10-01/2023-10-31\"\n",
    "}\n",
    "json_data = json.dumps(data)\n",
    "\n",
    "headers = {'Content-Type': 'application/json'}"
   ]
  },
  {
   "cell_type": "code",
   "execution_count": null,
   "id": "22dda411-2fc1-4487-bdeb-2c19d9276a4f",
   "metadata": {},
   "outputs": [],
   "source": [
    "response = requests.post(url, data=json_data, headers=headers)\n",
    "response.ok"
   ]
  },
  {
   "cell_type": "code",
   "execution_count": null,
   "id": "02d3da0e-6187-4ee3-831d-fccee4373fe5",
   "metadata": {},
   "outputs": [],
   "source": [
    "print(response.text)"
   ]
  }
 ],
 "metadata": {
  "kernelspec": {
   "display_name": "Python 3 (ipykernel)",
   "language": "python",
   "name": "python3"
  },
  "language_info": {
   "codemirror_mode": {
    "name": "ipython",
    "version": 3
   },
   "file_extension": ".py",
   "mimetype": "text/x-python",
   "name": "python",
   "nbconvert_exporter": "python",
   "pygments_lexer": "ipython3",
   "version": "3.12.0"
  }
 },
 "nbformat": 4,
 "nbformat_minor": 5
}
